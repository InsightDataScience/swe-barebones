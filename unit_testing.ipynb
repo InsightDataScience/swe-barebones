{
 "cells": [
  {
   "cell_type": "markdown",
   "metadata": {},
   "source": [
    "**Perfect number example**\n",
    "\n",
    "A perfect number is one where the factors of a number other than itself add up to the number.\n",
    "Factors of 6 are 1,2,3,6 and 1 + 2 + 3 = 6\n",
    "\n",
    "What do we need to test for:\n",
    "- Do we get the correct response for a few known perfect numbers?\n",
    "- Do we get the correct response for a few known non-perfect numbers?\n",
    "- Did we factorize correctly?\n"
   ]
  },
  {
   "cell_type": "code",
   "execution_count": 76,
   "metadata": {
    "collapsed": false
   },
   "outputs": [],
   "source": [
    "class Numbers:\n",
    "\n",
    "    def __init__(self):\n",
    "        pass\n",
    "\n",
    "    def perfect_number(self,n):\n",
    "        factors = []\n",
    "        factors.append(1)\n",
    "        factors.append(n)\n",
    "        for i in range(2,n):\n",
    "            if (n % i == 0):\n",
    "                factors.append(i)\n",
    "        # sum factors\n",
    "        sum = 0\n",
    "        for f in factors:\n",
    "                sum += f\n",
    "\n",
    "        # decide if it's perfect\n",
    "        return (sum - n == n)"
   ]
  },
  {
   "cell_type": "code",
   "execution_count": 77,
   "metadata": {
    "collapsed": true
   },
   "outputs": [],
   "source": [
    "def test_perfect_number():\n",
    "    num = Numbers()\n",
    "    assert num.perfect_number(6) == True\n",
    "    assert num.perfect_number(28) == True\n",
    "    assert num.perfect_number(30) == False"
   ]
  },
  {
   "cell_type": "markdown",
   "metadata": {},
   "source": [
    "This works, but if we wanted to test every edge case this is going to start to look nasty. Instead, we can use a package called `pytest` which simplifies things. Run the line below to see the output, and then go and check what it looks like in the repository."
   ]
  },
  {
   "cell_type": "code",
   "execution_count": 78,
   "metadata": {
    "collapsed": false
   },
   "outputs": [
    {
     "name": "stdout",
     "output_type": "stream",
     "text": [
      "\u001b[1m============================= test session starts ==============================\u001b[0m\n",
      "platform darwin -- Python 3.5.2, pytest-3.0.5, py-1.4.32, pluggy-0.4.0\n",
      "rootdir: /Users/BenRegner/dev/insight/swe-barebones, inifile: \n",
      "collected 5 items \n",
      "\u001b[0m\n",
      "tests/test_numbers.py .....\n",
      "\n",
      "\u001b[32m\u001b[1m=========================== 5 passed in 0.78 seconds ===========================\u001b[0m\n"
     ]
    }
   ],
   "source": [
    "!py.test tests"
   ]
  },
  {
   "cell_type": "markdown",
   "metadata": {},
   "source": [
    "Lets take a look at whats going on in there using the %load magic function"
   ]
  },
  {
   "cell_type": "code",
   "execution_count": null,
   "metadata": {
    "collapsed": true
   },
   "outputs": [],
   "source": [
    "%load tests/test_numbers.py"
   ]
  },
  {
   "cell_type": "markdown",
   "metadata": {},
   "source": [
    "The first test uses parametrize, which gives you a lot of flexibility. A great write up of everything you can do with parametrize can be found in the official documentation here: http://doc.pytest.org/en/latest/example/parametrize.html\n",
    "\n",
    "In the second test we run a loop to test many numbers. We could have also used parametrize for this test, although each test in parametrize stands alone, so the output becomes a little long. Go to the repository (not the cell above) and try changing this example to use the parametrize decorator. Run ```$ py.test tests``` and see how the output changes.\n",
    "\n",
    "This isn't super slow, but looking at our code we can find an inefficiency in our implementation. If we think a bit, we can see that we don't need to loop over all numbers up to the number we are checking, but can pick off pairs of factors as we find them. This means we only need to go up to the square root of the number we are checking. Below is a new implementation:"
   ]
  },
  {
   "cell_type": "code",
   "execution_count": 80,
   "metadata": {
    "collapsed": false
   },
   "outputs": [],
   "source": [
    "import numpy as np\n",
    "\n",
    "# Don't forget self when putting into a class!\n",
    "def perfect_number_optimized(n):\n",
    "    factors = []\n",
    "    factors.append(1)\n",
    "    factors.append(n)\n",
    "    for i in range(2,int(np.sqrt(n))+1):\n",
    "        if (n % i == 0):\n",
    "            factors.append(i)\n",
    "            factors.append(n // i)\n",
    "    # sum factors\n",
    "    sum = 0\n",
    "    print(factors)\n",
    "    for f in factors:\n",
    "        sum += f\n",
    "\n",
    "    # decide if it's perfect\n",
    "    return (sum - n == n)"
   ]
  },
  {
   "cell_type": "markdown",
   "metadata": {},
   "source": [
    "Try putting this into the Numbers class, change the tests to use this version, and run them again. It runs a little faster, so we're making progress! But we still haven't implemented all the tests we talked about early on. Lets refactor this code to do the factorization separately, which conveniently also lets us test that we're doing factorization correctly!"
   ]
  },
  {
   "cell_type": "code",
   "execution_count": 81,
   "metadata": {
    "collapsed": true
   },
   "outputs": [],
   "source": [
    "# Don't forget self when putting into a class!\n",
    "def factorize(n):\n",
    "    factors = []\n",
    "    factors.append(1)\n",
    "    factors.append(n)\n",
    "    for i in range(2,int(np.sqrt(n))+1):\n",
    "        if (n % i == 0):\n",
    "            factors.append(i)\n",
    "            factors.append(n // i)\n",
    "    return factors\n",
    "\n",
    "def perfect_number_optimized(n):\n",
    "    factors = factorize(n)\n",
    "    sum = 0\n",
    "    for f in factors:\n",
    "        sum += f\n",
    "    # decide if it's perfect\n",
    "    return (sum - n == n)"
   ]
  },
  {
   "cell_type": "raw",
   "metadata": {},
   "source": [
    "Put the following in ./tests/test_numbers.py\n",
    "\n",
    "```\n",
    "test_factorize_data = [(6,[1,2,3,6]),(10,[1,2,5,10]),(16,[1,2,4,8,16])]\n",
    "@pytest.mark.parametrize('x,expected',test_factorize_data)\n",
    "def test_factorize(x,expected):\n",
    "    num = Numbers()\n",
    "    assert sorted(num.factorize(x)) == sorted(expected)\n",
    "```\n",
    "\n",
    "Run py.test tests.\n",
    "\n",
    "One test failed! And it reports that the number 16 is a problem. Lets take a look."
   ]
  },
  {
   "cell_type": "code",
   "execution_count": 82,
   "metadata": {
    "collapsed": false
   },
   "outputs": [
    {
     "data": {
      "text/plain": [
       "[1, 16, 2, 8, 4, 4]"
      ]
     },
     "execution_count": 82,
     "metadata": {},
     "output_type": "execute_result"
    }
   ],
   "source": [
    "factorize(16)"
   ]
  },
  {
   "cell_type": "markdown",
   "metadata": {},
   "source": [
    "Whats going on here? If we look back at our implementation, we immediately see the problem. For perfect squares, we end up adding them twice in the lines\n",
    "```\n",
    "factors.append(i)\n",
    "factors.append(n // i)\n",
    "```\n",
    "There are a few ways to fix this, the easiest being a conditional check:\n",
    "```\n",
    "for i in range(2,int(np.sqrt(n))+1):\n",
    "    if (n % i == 0):\n",
    "        factors.append(i)\n",
    "        if (n // i !=  i):\n",
    "            factors.append(n // i)\n",
    "\n",
    "```\n",
    "\n",
    "Make this change in the class and try running the tests again. Now we're passing all the tests. Note that we would have missed this if we hadn't included a specific example that caught the problem. **Unit testing doesn't prevent all bugs!** But they will help you avoid many many problems."
   ]
  },
  {
   "cell_type": "markdown",
   "metadata": {},
   "source": [
    "**Github Excercise**\n",
    "\n",
    "Build a function or set of functions to calculate the total number of distinct contributors on all repositories for any given username\n",
    "\n",
    "API endpoints: (test it out with curl!)\n",
    "List of all repos for a given username: https://api.github.com/users/{username}/repos\n",
    "List of all contributors for a given username and repository: https://api.github.com/repos/{username}/{repo}/contributors \n",
    "\n",
    "Below you'll find some code to help get you started. How would you write tests to make sure you detect it if Github changes their API? What other tests should you write to make sure the user of your new function always gets what the expect?"
   ]
  },
  {
   "cell_type": "code",
   "execution_count": 83,
   "metadata": {
    "collapsed": false
   },
   "outputs": [],
   "source": [
    "import requests\n",
    "\n",
    "API_ENDPOINT = \"https://api.github.com\"\n",
    "def fetch_repo_names(userid):\n",
    "    resp = requests.get(\"{}/users/{}/repos\".format(API_ENDPOINT, userid))\n",
    "    return [x['name'] for x in resp.json()]\n",
    "\n",
    "def fetch_repo_contributors(userid, reponame):\n",
    "    resp = requests.get(\"{}/repos/{}/{}/contributors\".format(API_ENDPOINT, userid, reponame))\n",
    "    return [x['login'] for x in resp.json()]"
   ]
  }
 ],
 "metadata": {
  "kernelspec": {
   "display_name": "Python 3",
   "language": "python",
   "name": "python3"
  },
  "language_info": {
   "codemirror_mode": {
    "name": "ipython",
    "version": 3
   },
   "file_extension": ".py",
   "mimetype": "text/x-python",
   "name": "python",
   "nbconvert_exporter": "python",
   "pygments_lexer": "ipython3",
   "version": "3.5.2"
  }
 },
 "nbformat": 4,
 "nbformat_minor": 2
}
